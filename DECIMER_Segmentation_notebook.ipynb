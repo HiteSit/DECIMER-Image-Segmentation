{
 "cells": [
  {
   "cell_type": "code",
   "execution_count": 2,
   "metadata": {},
   "outputs": [],
   "source": [
    "import os\n",
    "import numpy as np\n",
    "from mrcnn import moldetect, visualize\n",
    "from pdf2image import convert_from_path\n",
    "\n",
    "from Detect_and_save_segmentation import load_model, get_masks\n",
    "from Scripts.complete_structure import complete_structure_mask"
   ]
  },
  {
   "cell_type": "markdown",
   "metadata": {},
   "source": [
    "## Load the model\n",
    "\n",
    "You can simply load the model and the function is going to assume that the model is saved "
   ]
  },
  {
   "cell_type": "code",
   "execution_count": null,
   "metadata": {},
   "outputs": [],
   "source": [
    "# Simply load the model \n",
    "model = load_model()\n",
    "# You can also specify a different model path:\n",
    "#model = load_model(path = 'model_trained/mask_rcnn_molecule.h5')"
   ]
  },
  {
   "cell_type": "markdown",
   "metadata": {},
   "source": [
    "## Define pdf path and convert to image\n",
    "\n",
    "Please uncomment according to the system you are using. \n",
    "If you are using Windows, make sure, poppler is installed properly.\n",
    "On Linux and MacOS, this should work properly without any problems. \n",
    "\n",
    "#### Uncomment below according to your needs. "
   ]
  },
  {
   "cell_type": "code",
   "execution_count": null,
   "metadata": {},
   "outputs": [],
   "source": [
    "path = os.path.abspath('./Validation/test_page.pdf')\n",
    "\n",
    "#If you are using Windows, make sure to have poppler installed and show pdf2image where to find it. \n",
    "#poppler_path = r\"C:\\Program Files (x86)\\poppler-0.68.0\\bin\"  # CHANGE PATH\n",
    "#pages = convert_from_path(path, 500, poppler_path = poppler_path)\n",
    "\n",
    "# If you are using Linux or MacOS, this should hopefully have been installed via conda/pip.\n",
    "# In that case, you just run:\n",
    "pages = convert_from_path(path, 500)\n"
   ]
  },
  {
   "cell_type": "markdown",
   "metadata": {},
   "source": [
    "## Run the detection using the Mask R CNN model"
   ]
  },
  {
   "cell_type": "code",
   "execution_count": null,
   "metadata": {},
   "outputs": [],
   "source": [
    "image = np.asarray(pages[0])\n",
    "results = model.detect([image], verbose=1)\n",
    "r = results[0]"
   ]
  },
  {
   "cell_type": "markdown",
   "metadata": {},
   "source": [
    "## Visualize the masks results\n",
    "\n",
    "As you can see below, the model alone performs relatively well but the lower structure is not covered completely by its mask. "
   ]
  },
  {
   "cell_type": "code",
   "execution_count": null,
   "metadata": {},
   "outputs": [],
   "source": [
    "visualize.display_instances(image = image, \n",
    "                             masks = r['masks'], \n",
    "                             class_ids = r[\"class_ids\"], \n",
    "                             boxes = r['rois'],\n",
    "                            class_names = ['structure', 'structure'])"
   ]
  },
  {
   "cell_type": "markdown",
   "metadata": {},
   "source": [
    "## Run the mask expansion\n",
    "If the debug parameter is set to True, the results of the binarization and the dilation are shown."
   ]
  },
  {
   "cell_type": "code",
   "execution_count": null,
   "metadata": {},
   "outputs": [],
   "source": [
    "exp_masks = complete_structure_mask(image, r['masks'], debug = True)\n"
   ]
  },
  {
   "cell_type": "markdown",
   "metadata": {},
   "source": [
    "## Visualize results after mask expansion\n",
    "As you can see below, the masks in the final output are significantly slimmer and cover the complete structures."
   ]
  },
  {
   "cell_type": "code",
   "execution_count": null,
   "metadata": {},
   "outputs": [],
   "source": [
    "visualize.display_instances(image = image, \n",
    "                             masks = exp_masks, \n",
    "                             class_ids = r[\"class_ids\"], \n",
    "                             boxes = r['rois'],\n",
    "                             class_names = ['structure', 'structure'])"
   ]
  },
  {
   "cell_type": "code",
   "execution_count": null,
   "metadata": {},
   "outputs": [],
   "source": []
  }
 ],
 "metadata": {
  "kernelspec": {
   "display_name": "Python 3",
   "language": "python",
   "name": "python3"
  },
  "language_info": {
   "codemirror_mode": {
    "name": "ipython",
    "version": 3
   },
   "file_extension": ".py",
   "mimetype": "text/x-python",
   "name": "python",
   "nbconvert_exporter": "python",
   "pygments_lexer": "ipython3",
   "version": "3.7.9"
  }
 },
 "nbformat": 4,
 "nbformat_minor": 4
}
