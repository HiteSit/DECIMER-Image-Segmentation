{
 "cells": [
  {
   "cell_type": "code",
   "execution_count": 91,
   "metadata": {},
   "outputs": [],
   "source": [
    "import numpy as np\n",
    "import matplotlib.pyplot as plt\n",
    "#import seaborn as sns\n",
    "#from itertools import cycle, islice"
   ]
  },
  {
   "cell_type": "code",
   "execution_count": null,
   "metadata": {},
   "outputs": [],
   "source": []
  },
  {
   "cell_type": "code",
   "execution_count": 114,
   "metadata": {},
   "outputs": [
    {
     "name": "stdout",
     "output_type": "stream",
     "text": [
      "Weighted average recognized structures\n",
      "94.36170212765957\n",
      "Weighted average complete structures ONLY MODEL\n",
      "81.8489289740699\n",
      "Weighted average complete structures\n",
      "96.84329199549042\n",
      "Weighted average additional object occurence ONLY MODEL\n",
      "10.146561443066517\n",
      "Weighted average additional object occurence\n",
      "15.445321307779029\n"
     ]
    }
   ],
   "source": [
    "# Journal of Natural Products data\n",
    "jnatprod_total_structures = 331\n",
    "jnatprod_recognized_structures = 306\n",
    "jnatprod_complete_segment_ONLY_MODEL = 255\n",
    "jnatprod_complete_segment = 295\n",
    "jnatprod_too_much_ONLY_MODEL = 32\n",
    "jnatprod_too_much = 50\n",
    "\n",
    "# Phytochemistry data\n",
    "phytochemistry_total_structures = 206\n",
    "phytochemistry_recognized_strutures = 183\n",
    "phytochemistry_complete_segment_ONLY_MODEL = 153\n",
    "phytochemistry_complete_segment = 177\n",
    "phytochemistry_too_much_ONLY_MODEL = 12\n",
    "phytochemistry_too_much = 19\n",
    "\n",
    "# Molecules data\n",
    "molecules_total_structures = 403\n",
    "molecules_recognized_strutures = 398\n",
    "molecules_complete_segment_ONLY_MODEL = 318\n",
    "molecules_complete_segment = 387\n",
    "molecules_too_much_ONLY_MODEL = 46\n",
    "molecules_too_much = 68\n",
    "\n",
    "# Data about segmented structures \n",
    "#height = [306*100/331, 295*100/306, 50*100/306, 183*100/206, 177*100/183, 23*100/183, 398*100/403, 387*100/398, 32*100/398]\n",
    "\n",
    "\n",
    "complete_structures_only_model = [318*100/398, 153*100/183, 255*100/306]\n",
    "complete_structures = [387*100/398, 177*100/183, 295*100/306]\n",
    "recognized_structures = [398*100/403, 183*100/206, 306*100/331]\n",
    "too_much_only_model = [46*100/398, 12*100/183, 32*100/306]\n",
    "too_much = [68*100/398, 19*100/183, 50*100/306]\n",
    "\n",
    "# Don't judge me, what follows is redundant. \n",
    "\n",
    "# Weigted sum of recognized structures\n",
    "total_structures = [403, 206, 331]\n",
    "weights = [n/sum(total_structures) for n in total_structures]\n",
    "weighted_average_recognized_structures = 0\n",
    "for n in range(len(recognized_structures)):\n",
    "    weighted_average_recognized_structures += recognized_structures[n]*weights[n]\n",
    "print(\"Weighted average recognized structures\")\n",
    "print(weighted_average_recognized_structures)\n",
    "\n",
    "# Weighted sum of complete structures ONLY MODEL\n",
    "recognized_structures_abs = [398, 183, 306]\n",
    "weights = [n/sum(recognized_structures_abs) for n in recognized_structures_abs]\n",
    "weighted_average_complete_structures = 0\n",
    "for n in range(len(complete_structures_only_model)):\n",
    "    weighted_average_complete_structures += complete_structures_only_model[n]*weights[n]\n",
    "print(\"Weighted average complete structures ONLY MODEL\")\n",
    "print(weighted_average_complete_structures)\n",
    "\n",
    "# Weighted sum of complete structures\n",
    "recognized_structures_abs = [398, 183, 306]\n",
    "weights = [n/sum(recognized_structures_abs) for n in recognized_structures_abs]\n",
    "weighted_average_complete_structures = 0\n",
    "for n in range(len(complete_structures)):\n",
    "    weighted_average_complete_structures += complete_structures[n]*weights[n]\n",
    "print(\"Weighted average complete structures\")\n",
    "print(weighted_average_complete_structures)\n",
    "\n",
    "# Weighted sum of occurence of additional objects ONLY MODEL\n",
    "recognized_structures_abs = [398, 183, 306]\n",
    "weights = [n/sum(recognized_structures_abs) for n in recognized_structures_abs]\n",
    "weighted_average_too_much_only_model = 0\n",
    "for n in range(len(too_much_only_model)):\n",
    "    weighted_average_too_much_only_model += too_much_only_model[n]*weights[n]\n",
    "print(\"Weighted average additional object occurence ONLY MODEL\")\n",
    "print(weighted_average_too_much_only_model)\n",
    "\n",
    "# Weighted sum of occurence of additional objects ONLY MODEL\n",
    "recognized_structures_abs = [398, 183, 306]\n",
    "weights = [n/sum(recognized_structures_abs) for n in recognized_structures_abs]\n",
    "weighted_average_too_much = 0\n",
    "for n in range(len(too_much)):\n",
    "    weighted_average_too_much += too_much[n]*weights[n]\n",
    "print(\"Weighted average additional object occurence\")\n",
    "print(weighted_average_too_much)\n",
    "\n",
    "labels = ('Molecules', 'Phytochemistry', 'J. Nat. Prod.')"
   ]
  },
  {
   "cell_type": "code",
   "execution_count": 106,
   "metadata": {},
   "outputs": [
    {
     "data": {
      "image/png": "[encoded data removed]",
      "text/plain": [
       "<Figure size 432x288 with 1 Axes>"
      ]
     },
     "metadata": {
      "needs_background": "light"
     },
     "output_type": "display_data"
    }
   ],
   "source": [
    "# This plot has been created according to the tutorial on \n",
    "# https://matplotlib.org/gallery/lines_bars_and_markers/barchart.html#sphx-glr-gallery-lines-bars-and-markers-barchart-py\n",
    "#height = [306*100/331, 295*100/306, 183*100/206, 177*100/183, 398*100/403, 387*100/398]\n",
    "x = np.arange(len(labels))  # label locations\n",
    "width = 0.25  # width of the bars\n",
    "\n",
    "fig, ax = plt.subplots()\n",
    "rects1 = ax.bar(x - width, complete_structures, width, label=\"Proportion of segments with complete chemical structures        \", color = \"#D7FA64\")\n",
    "rects2 = ax.bar(x, recognized_structures, width, label=\"Proportion of recognized structure depictions\", color = \"#7DAFFA\")\n",
    "rects3 = ax.bar(x + width, too_much, width, label=\"Proportion of segments with additional elements\", color = \"#F27D6D\")\n",
    "\n",
    "# Add some text for labels, title and custom x-axis tick labels, etc.\n",
    "ax.set_ylabel('Percentage (%)')\n",
    "ax.set_xticks(x)\n",
    "ax.set_xticklabels(labels)\n",
    "ax.legend()\n",
    "ax.set_ylim(0,140)\n",
    "\n",
    "def autolabel(rects):\n",
    "    \"\"\"Attach a text label above each bar in *rects*, displaying its height.\"\"\"\n",
    "    for rect in rects:\n",
    "        height = rect.get_height()\n",
    "        height = round(height, 1)\n",
    "        ax.annotate('{}'.format(height),\n",
    "                    xy=(rect.get_x() + rect.get_width() / 2, height),\n",
    "                    xytext=(0, 3),  # 3 points vertical offset\n",
    "                    textcoords=\"offset points\",\n",
    "                    ha='center', va='bottom')\n",
    "\n",
    "\n",
    "autolabel(rects1)\n",
    "autolabel(rects2)\n",
    "autolabel(rects3)\n",
    "\n",
    "\n",
    "fig.tight_layout()\n",
    "plt.savefig(\"segment_analysis.png\", dpi=400)\n",
    "plt.show()"
   ]
  },
  {
   "cell_type": "code",
   "execution_count": null,
   "metadata": {},
   "outputs": [],
   "source": []
  },
  {
   "cell_type": "code",
   "execution_count": null,
   "metadata": {},
   "outputs": [],
   "source": []
  },
  {
   "cell_type": "code",
   "execution_count": null,
   "metadata": {},
   "outputs": [],
   "source": []
  },
  {
   "cell_type": "code",
   "execution_count": null,
   "metadata": {
    "scrolled": true
   },
   "outputs": [],
   "source": []
  },
  {
   "cell_type": "code",
   "execution_count": null,
   "metadata": {},
   "outputs": [],
   "source": []
  }
 ],
 "metadata": {
  "kernelspec": {
   "display_name": "CSR",
   "language": "python",
   "name": "csr"
  },
  "language_info": {
   "codemirror_mode": {
    "name": "ipython",
    "version": 3
   },
   "file_extension": ".py",
   "mimetype": "text/x-python",
   "name": "python",
   "nbconvert_exporter": "python",
   "pygments_lexer": "ipython3",
   "version": "3.6.10"
  }
 },
 "nbformat": 4,
 "nbformat_minor": 4
}
